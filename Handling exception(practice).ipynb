{
 "cells": [
  {
   "cell_type": "code",
   "execution_count": 1,
   "metadata": {},
   "outputs": [],
   "source": [
    "import pandas as pd\n",
    "import selenium\n",
    "from selenium import webdriver\n",
    "import time\n",
    "from selenium.common.exceptions import NoSuchElementException"
   ]
  },
  {
   "cell_type": "code",
   "execution_count": 2,
   "metadata": {},
   "outputs": [],
   "source": [
    "driver=webdriver.Chrome(\"chromedriver.exe\")\n",
    "driver.get(\"https://www.naukri.com/data-scientist-jobs-in-banglore-bangluru\")"
   ]
  },
  {
   "cell_type": "code",
   "execution_count": 3,
   "metadata": {},
   "outputs": [],
   "source": [
    "#Fetching url\n",
    "urls=[]\n",
    "for i in driver.find_elements_by_xpath(\"//a[@class='title fw500 ellipsis']\"):\n",
    "    urls.append(i.get_attribute(\"href\"))"
   ]
  },
  {
   "cell_type": "code",
   "execution_count": 4,
   "metadata": {},
   "outputs": [
    {
     "data": {
      "text/plain": [
       "20"
      ]
     },
     "execution_count": 4,
     "metadata": {},
     "output_type": "execute_result"
    }
   ],
   "source": [
    "len(urls)"
   ]
  },
  {
   "cell_type": "code",
   "execution_count": 5,
   "metadata": {},
   "outputs": [
    {
     "data": {
      "text/plain": [
       "['https://www.naukri.com/job-listings-analytics-ai-product-mgmt-sr-data-scientist-glaxosmithkline-pharmaceuticals-limited-bangalore-bengaluru-5-to-10-years-210721500593?src=jobsearchDesk&sid=16270243111046190&xp=1&px=1',\n",
       " 'https://www.naukri.com/job-listings-senior-data-scientist-red-hat-india-pvt-ltd-bangalore-bengaluru-8-to-13-years-220721008125?src=jobsearchDesk&sid=16270243111046190&xp=2&px=1',\n",
       " 'https://www.naukri.com/job-listings-lead-data-scientist-nlp-opencv-codersbrain-hyderabad-secunderabad-bangalore-bengaluru-6-to-11-years-220721900199?src=jobsearchDesk&sid=16270243111046190&xp=3&px=1',\n",
       " 'https://www.naukri.com/job-listings-lead-data-scientist-prescriptive-analytics-predictive-modeling-codersbrain-hyderabad-secunderabad-bangalore-bengaluru-6-to-11-years-210721901501?src=jobsearchDesk&sid=16270243111046190&xp=4&px=1',\n",
       " 'https://www.naukri.com/job-listings-data-scientist-advanced-analytics-ibm-india-pvt-limited-bangalore-bengaluru-5-to-10-years-220721908913?src=jobsearchDesk&sid=16270243111046190&xp=5&px=1',\n",
       " 'https://www.naukri.com/job-listings-data-scientist-advanced-analytics-ibm-india-pvt-limited-bangalore-bengaluru-5-to-10-years-220721907949?src=jobsearchDesk&sid=16270243111046190&xp=6&px=1',\n",
       " 'https://www.naukri.com/job-listings-senior-data-scientist-bankbazaar-com-a-a-dukaan-financial-services-pvt-ltd-bangalore-bengaluru-5-to-7-years-040321006895?src=jobsearchDesk&sid=16270243111046190&xp=7&px=1',\n",
       " 'https://www.naukri.com/job-listings-senior-data-scientist-product-analytics-atlassian-bangalore-bengaluru-5-to-9-years-210721501628?src=jobsearchDesk&sid=16270243111046190&xp=8&px=1',\n",
       " 'https://www.naukri.com/job-listings-senior-data-scientist-product-analytics-execboardinasia-bangalore-bengaluru-5-to-10-years-210721500203?src=jobsearchDesk&sid=16270243111046190&xp=9&px=1',\n",
       " 'https://www.naukri.com/job-listings-senior-data-scientist-glaxosmithkline-pharmaceuticals-limited-bangalore-bengaluru-5-to-9-years-190721500428?src=jobsearchDesk&sid=16270243111046190&xp=10&px=1',\n",
       " 'https://www.naukri.com/job-listings-senior-programmer-data-scientist-glaxosmithkline-pharmaceuticals-limited-bangalore-bengaluru-5-to-8-years-190721500461?src=jobsearchDesk&sid=16270243111046190&xp=11&px=1',\n",
       " 'https://www.naukri.com/job-listings-senior-manager-data-scientist-glaxosmithkline-pharmaceuticals-limited-bangalore-bengaluru-4-to-6-years-170721500256?src=jobsearchDesk&sid=16270243111046190&xp=12&px=1',\n",
       " 'https://www.naukri.com/job-listings-senior-data-scientist-tech-lead-sql-python-big-data-exploro-solutions-pune-chennai-bangalore-bengaluru-5-to-10-years-220721910239?src=jobsearchDesk&sid=16270243111046190&xp=13&px=1',\n",
       " 'https://www.naukri.com/job-listings-lead-programmer-data-scientist-glaxosmithkline-pharmaceuticals-limited-bangalore-bengaluru-5-to-9-years-170721500252?src=jobsearchDesk&sid=16270243111046190&xp=14&px=1',\n",
       " 'https://www.naukri.com/job-listings-data-scientist-analyst-specialist-transorg-solutions-services-p-ltd-noida-new-delhi-gurgaon-gurugram-bangalore-bengaluru-delhi-ncr-mumbai-all-areas-2-to-4-years-160721004747?src=jobsearchDesk&sid=16270243111046190&xp=15&px=1',\n",
       " 'https://www.naukri.com/job-listings-data-scientist-machine-learning-engineer-ibm-india-pvt-limited-bangalore-bengaluru-3-to-7-years-160721903122?src=jobsearchDesk&sid=16270243111046190&xp=16&px=1',\n",
       " 'https://www.naukri.com/job-listings-lead-data-scientist-nlp-opencv-codersbrain-hyderabad-secunderabad-bangalore-bengaluru-6-to-11-years-200721903291?src=jobsearchDesk&sid=16270243111046190&xp=17&px=1',\n",
       " 'https://www.naukri.com/job-listings-sr-data-scientist-multi-recruit-bangalore-bengaluru-5-to-10-years-200721501506?src=jobsearchDesk&sid=16270243111046190&xp=18&px=1',\n",
       " 'https://www.naukri.com/job-listings-data-scientist-flipkart-internet-private-limited-bangalore-bengaluru-0-to-5-years-080721904425?src=jobsearchDesk&sid=16270243111046190&xp=19&px=1',\n",
       " 'https://www.naukri.com/job-listings-data-scientist-python-sql-simplify360-bangalore-bengaluru-2-to-3-years-230721900887?src=jobsearchDesk&sid=16270243111046190&xp=20&px=1']"
      ]
     },
     "execution_count": 5,
     "metadata": {},
     "output_type": "execute_result"
    }
   ],
   "source": [
    "urls"
   ]
  },
  {
   "cell_type": "code",
   "execution_count": 6,
   "metadata": {},
   "outputs": [],
   "source": [
    "#Define variable\n",
    "jobs_title=[]\n",
    "jobs_description=[]"
   ]
  },
  {
   "cell_type": "code",
   "execution_count": 7,
   "metadata": {},
   "outputs": [],
   "source": [
    "for i in urls[:10]:\n",
    "    driver.get(i)\n",
    "    time.sleep(3)\n",
    "    #Fetching job title\n",
    "    try:\n",
    "        job=driver.find_element_by_xpath(\"//h1[@class'jd-header-title']\")\n",
    "        jobs_title.append(job.text)\n",
    "    except NoSuchElementException:\n",
    "        jobs_title.append(\"-\")\n",
    "        \n",
    "    #fetching job description\n",
    "    try:\n",
    "        job_desc=driver.find_element_by_xpath(\"//section[@class='job-desc']\")\n",
    "        jobs_description.append(job_desc.text)\n",
    "    except:\n",
    "        jobs_description.append(\"-\")\n",
    "        \n",
    "    \n",
    "    "
   ]
  },
  {
   "cell_type": "code",
   "execution_count": 8,
   "metadata": {},
   "outputs": [
    {
     "name": "stdout",
     "output_type": "stream",
     "text": [
      "10\n",
      "10\n"
     ]
    }
   ],
   "source": [
    "print(len(jobs_title))\n",
    "print(len(jobs_description))"
   ]
  },
  {
   "cell_type": "code",
   "execution_count": 9,
   "metadata": {},
   "outputs": [
    {
     "data": {
      "text/plain": [
       "['-', '-', '-', '-', '-', '-', '-', '-', '-', '-']"
      ]
     },
     "execution_count": 9,
     "metadata": {},
     "output_type": "execute_result"
    }
   ],
   "source": [
    "jobs_title"
   ]
  },
  {
   "cell_type": "code",
   "execution_count": 10,
   "metadata": {},
   "outputs": [
    {
     "data": {
      "text/plain": [
       "['Job description\\nThis role will provide YOU the opportunity to lead key activities to progress YOUR career. These responsibilities include some of the following.\\nSenior Data Scientist is accountable for delivering various AI/ML capabilities and projects, including business as usual operations for Vx tech organization. They need to ensure that they are focused on delivering value at optimal cost while ensuring that GSK Tech is looking far enough into the future to guide the business.\\nAccountable for all the business process identified in the scope below and contributing to the development of our AI/ML capabilities Strategy. In your role, you will collaborate with other functional teams and digital innovation team to ensure the optimal portfolio of applications exists to support the business.\\nResponsibilities:\\nIdentify critical business problems and create analytical/modelling solutions while maintaining the right balance between speed to market and analytical soundness when designing solutions.\\nInfluence machine learning strategy for a program/project; explores design options to assess efficiency and impact, develop approaches to improve robustness and rigour.\\nBe a key contributor to the planning and direction of a project and effectively prioritize goals.\\nLead discussions at peer review and uses quantitative skills to positively influence decision making.\\nRepresent GSK externally to advance technical capability across the Industry.\\nIdentify opportunities to apply the latest advancements in Machine Learning and Artificial Intelligence to the fields of biology, chemistry, and medicine.\\nCreate algorithms to extract information from large, multiparametric data sets.\\nDeploy your algorithms to production to identify actionable insights from large databases.\\nCompare results from various methodologies and recommend best techniques to stake holders.\\nDesign, develop and implement analytical solutions using a variety of commercial and open source tools (common tools include Python, R, TensorFlow).\\nDevelop and embed automated processes for predictive model validation, deployment, and implementation.\\nConnect and collaborate with subject matter experts in RD, GIO-Q, Commercial and Medical.\\nMake impactful contributions to internal discussions on emerging machine learning methodologies.\\nEducate the organization both from IT and the business perspectives on these new approaches, such as testing hypotheses and statistical validation of results.\\nProvide thought leadership: facilitate cross-geography fertilization of ideas and implements key principles/best-practices and guidelines across the categories.\\nEnable the future BI / Analytics infrastructure and self-service model.\\nDemonstrate a combination of business focus, strong analytical and problem-solving skills and programming knowledge to be able to quickly cycle hypothesis through the discovery phase of the project and excellent written and communications skills to report back the findings in a clear, structured manner.\\nWe are looking for a Sr Data Scientist and if you have these skills, we would like to speak to you.\\nA higher degree (PhD preferred) in Engineering, Statistics, Data Science, Applied Mathematics, Computer Science, Physics, Bioinformatics, Computational Biology, Computational Chemistry or related quantitative field\\n10+ years of experience in any at least 2 of the AI domains: NLP, NLG, Computer Vision, etc.\\nExperience with Quantum AI/ML, federated AI/ML, or Encrypted AI/ML big plus\\nKnowledge of Cloud (Azure or AWS or Google Cloud) platform infrastructure and on-prem to run and optimize distributed data applications\\nExperience understanding of a programming language such as Python.\\nExperience with at least one deep learning framework such as TensorFlow, Keras, or PyTorch\\nExperience/Familiarity with standard deep learning algorithms (CNN, LSTM, etc.)\\nExperience with AI/ML Devops and CI/CD\\nExperience producing high-quality code, tests, documentation\\n.\\nRoleDatawarehousing Technician\\nIndustry TypePharmaceutical & Life Sciences\\nFunctional AreaIT Software - Systems, EDP, MIS\\nEmployment TypeFull Time, Permanent\\nRole CategorySystem Design/Implementation/ERP/CRM\\nEducation\\nUG :Any Graduate\\nPG :Post Graduation Not Required\\nKey Skills\\nProcurementComputer scienceBusiness processAnalyticalPharmaAgileHealthcareData miningAnalyticsPython',\n",
       " \"Job description\\nJob Summary\\n\\nThe Red Hat Engineering team is looking for a Senior Data Scientist to join us in Bangalore, India. In this role, you will design, develop, and program methods, processes, and systems to consolidate and analyse unstructured, diverse big data sources to generate actionable insights and solutions for customer services and solutions enhancement. You'll interact with product and service teams to identify questions and issues for data analysis and experiments. You'll develop and code software programs, algorithms, and automated processes to cleanse, integrate, and evaluate large data sets from multiple disparate sources. As a Senior Data Scientist, you will identify meaningful insights from large data and metadata sources and communicate them to product, service, and business managers.\\n\\nPrimary Responsibilities\\n\\nData mining, and statistical techniques and algorithms to create new scalable solutions for business problems by analysis of large amounts of data\\nAbility to understand a business problem and translate it to data science requirements and develop solutions.\\nDevelop solutions using NLP, work on solutions using advanced NLP algorithms like BERT, GRU etc\\nDevelop analytical tools and data offerings\\nCreate tools that you yourself would like to and could use\\nInstitutionalise best practices for ML solution development life cycle, including model building, model deployment, develop data pipeline, cloud deployment and model re-training\\nParticipate in the community blog, participate in forums, and speak at user groups and conferences\\nRequired Skillset\\n\\n5-8 years of experience in machine learning (ML) model development\\nExperience in Cloud infra domain\\nExperience in defining dataset requirements for a business problem\\nExperience developing in Python\\nExperienced in deploying ML models in cloud-based architecture\\nExperience in developing data pipelines from disparate data sources for ML solutions.\\nExperience with REST Services, Service-Oriented Systems and Micro-services architecture\\nExperience with Docker, Kubernetes and Cloud Technologies\\nExperience in define, design and develop prototypes or proofs of concepts\\nExperience with agile framework and mode of working\\nRoleOther\\nIndustry TypeIT Services & Consulting\\nFunctional AreaAnalytics & Business Intelligence\\nEmployment TypeFull Time, Permanent\\nRole CategoryOther\\nEducation\\nUG :Any Graduate\\nKey Skills\\nDockerBig DataData Analysisdata scientistMachine LearningDeep LearningKubernetesPython\",\n",
       " 'Job description\\nJob Description :\\n- Background in Computer Science/Computer Applications or any quantitative discipline (Statistics, Mathematics, Economics/Operations Research etc.) from a reputed institute.\\n\\n- 6+ years of experience using analytical tools/languages like Python & R on large scale data\\n\\n- Strong understanding of analytics framework and algorithms such as regression and classification techniques, boosting, gradient descent, Forecasting, Clustering, Decision trees etc.\\n\\n- Fair understanding of statistics - know when and what to apply\\n\\n- Expertise in NLP and good to have Semantic model & NER experience\\n\\n- Good understanding of Deep Learning and Neural networks so that can be applied in any project as needed\\n\\n- Good in Deep learning frameworks like Open CV, PyTorch, Theano, Tensor Flow, Caffe etc. Should be able to implement solutions for industries e.g. pharma, healthcare, SaaS/ Tech etc.\\n\\n- Ability to engage with client stakeholders at multiple levels and provide consultative solutioning across different domains\\n\\n- Experience in productionizing & retraining models\\nRoleAnalytics Manager\\nIndustry TypeIT Services & Consulting\\nFunctional AreaAnalytics & Business Intelligence\\nEmployment TypeFull Time, Permanent\\nRole CategoryAnalytics & BI\\nEducation\\nUG :B.Sc in Maths, Computers, Statistics, BCA in Computers, B.A in Economics, Statistics, Maths, B.Tech/B.E. in Computers\\nPG :Any Postgraduate\\nDoctorate :Doctorate Not Required\\nKey Skills\\nData ScienceRNLPOpenCVData ScientistSaaSNeural NetworksDeep LearningPython',\n",
       " 'Job description\\nJob Description :\\n- 6-8 years of experience in working on industrial use cases in data science using Machine Learning for measurement, forecasting, simulation and optimization\\n\\n- Ability to generate insight out of sparse data and communicate stories; demonstrated ability to engage with client stakeholders at multiple levels and provide consultative solutioning; ability to create engagement opportunities through advisory\\n\\n- Demonstrated ability to lead and mentor teams of analysts in solutioning and delivery\\n\\n- Background in Applied data science/ Computer Science/Computer Applications or any quantitative discipline (Statistics, Mathematics, Economics/Operations Research etc.) from a reputed institute.\\n\\n- Strong knowledge of fundamentals of Data Science - Statistical techniques, hypotheses generation and testing, exploratory data analysis; descriptive/inquisitive/predictive and prescriptive analysis; proficiency with variety of approaches and models\\n\\n- Deep knowledge of techniques such as Linear Regression, gradient descent, Logistic Regression, Forecasting, Cluster analysis, Decision trees, Random Forests & SVM, Linear Optimization.\\n\\n- Ability to work across different domains and get a quick sense of the business processes & flows\\n\\n- Exceptional communication skills, both verbal and written, with a strong urge to learn, iterate and innovate\\nRoleAnalytics Manager\\nIndustry TypeAnalytics / KPO / Research\\nFunctional AreaAnalytics & Business Intelligence\\nEmployment TypeFull Time, Permanent\\nRole CategoryAnalytics & BI\\nEducation\\nUG :B.A in Economics, Statistics, Maths, BCA in Computers, B.Sc in Maths, Computers, Statistics, B.Tech/B.E. in Computers\\nPG :Any Postgraduate\\nDoctorate :Doctorate Not Required\\nKey Skills\\nData SciencePredictive ModelingData ScientistStatistical AnalystData AnalyticsRegression ModelingPrescriptive AnalyticsMachine LearningLinear Programming',\n",
       " '-',\n",
       " '-',\n",
       " 'Job description\\nSenior Data Scientist\\nBangalore\\nDescription\\nPrimary focus will be in applying data mining techniques, doing statistical analysis, build recommendation systems to drastically improve on our cross-selling capabilities, build credit score models that will help us assess customer risk, and build systems for automated fraud detection\\nProvide analytic support to the business teams by understanding the context and formulate/execute appropriate analytical approach to address the situation\\nThis will be a high visibility role that will entail working closely with the Senior Management and several functions. The team member should independently manage end-to-end partner communication\\n\\nCore Responsibilities\\n\\nDevelopment and maintenance of statistical / quantitative models and segmentations\\nAbility to manage & develop analytic solutions to deliver on complex projects\\nUsing insights from data, to improve cross-sell capabilities to BankBazaars past customers & visitors; How to increase customer LTV (Lifetime value) and repeat purchase behavior\\nMeasure & own the business impact of work, Set and manage partner expectations, manage timeliness around project priorities\\nCan coach/mentor junior team members on theory/practical applications of relevant tools & techniques, significantly contribute to the standardization and best practices\\n\\nQualifications\\n6+ years of analytics experience\\nPreferable to have Masters in a numerate subject such as Mathematics, Operational Research, Business Administration, Economics etc. from a premier institute / Bachelors with a track record of performance that demonstrates the ability of understanding numbers\\nAdded advantage: Have worked in any of the following domain: (Credit Cards, Retail Bank, Mortgage, Lending/Liability Product)\\nProficient in formulating analytical methodology, identifying trends and patterns with data\\nExpertise in advanced statistics including hypothesis testing, regression, segmentation, text mining and neural networks, optimization and forecasting\\nProficient in tools like MS Excel, PowerPoint and programming language such as R, SAS, SQL, Python; familiarity with PowerBI is an added advantage\\nGood to have expertise in Adobe Site Catalyst/Omniture/Google Analytics\\nSolid communication skills: Demonstrated ability to explain complex technical issues to both technical and non-technical audiences, Capability to act as an owner & deliver results\\nRoleBusiness Analyst\\nIndustry TypeFinTech / Payments\\nFunctional AreaAnalytics & Business Intelligence\\nEmployment TypeFull Time, Permanent\\nRole CategoryAnalytics & BI\\nEducation\\nUG :Any Graduate\\nKey Skills\\nSegmentationSASData MiningText MiningSQLBusiness AnalysisData ScienceRData ScientistStatistical ModelingData ModelingQuantitativePythonPredictive Analytics',\n",
       " 'Job description\\n  On your first day, well expect you to have:\\nOver 6+ years of proven experience applying your analytics skills projects which have had a positive impact to strategic and product roadmap decisions\\nStrong ability to communicate. Explaining complex concepts to diverse audiences, and crafting compelling stories\\nExpertise in SQL and proficiency in another data programming language (Python, R, etc.)\\nUnderstanding of business strategy, particularly with respect to partnerships, and ability to think broadly and creatively on strategic business problems\\nFamiliarity with event-based analytics, and a curiosity to learn more\\nProficiency in one or more analytics and visualization tools (e.g., Tableau, Mode)\\nExpertise in foundational statistics (data distributions, inferential statistics, probability, etc.)\\nExperience in designing and analyzing experiments that drive key decisions\\nKnowledge of data instrumentation and logging\\nA keen eye for data accuracy and consistency\\nIts great, but not required if you have:\\nExperience working in a global environment with remote teams\\nKnowledge of and experience with widely-used workplace collaboration tools and integrations between those tools\\nAn understanding of the SaaS development, business model, and metrics\\nAre an active member of the broader analytics and data science community\\nRoleTechnical Support Engineer\\nIndustry TypeIT Services & Consulting\\nFunctional AreaIT Software - System Programming\\nEmployment TypeFull Time, Permanent\\nRole CategoryAdmin/Maintenance/Security/Datawarehousing\\nEducation\\nUG :B.Tech/B.E. in Computers\\nPG :Post Graduation Not Required\\nKey Skills\\nData ScienceRUse CasesProblem SolvingTableauStatisticsPythonSql',\n",
       " 'Job description\\nProduct Analytics at the company is multidisciplinary. The perfect teammate is someone who has the skills to surface insights quickly and communicate those insights in a way that persuades action by product managers, designers, marketers, engineers, and partners alike.\\nYou ll use SQL, R, and\\\\/or Python often, but you won t be at your desk all day. Part of your job is to improve the data literacy of your product team, teaching people when, where, and how to harness the data available to inform decision-making.\\nThis will be achieved by sizing opportunities, assessing the impact of changes, and recommending new features based on analytical deep dives.\\nYou be working within their Ecosystem team collaborating primarily with the Marketplace team.\\nMarketplace is responsible for connecting app developers with users, distributing the best apps for their customers whilst allowing developers to create a product on their platform. Apps extend the use cases for their products, improving the functionality as well as enabling developers to build a business on their platform.\\nRoleTrainer/Faculty\\nIndustry TypeRecruitment / Staffing\\nFunctional AreaIT Software - eCommerce, Internet Technologies\\nEmployment TypeFull Time, Permanent\\nRole CategoryOther\\nEducation\\nUG :B.Tech/B.E. in Any Specialization\\nPG :Any Postgraduate\\nKey Skills\\nAnalyticalAnalyticsSQLPythonTeaching',\n",
       " 'Job description\\nRole Expectation:\\nPartners with Functional Directors to align Finance Analytics initiatives and roadmap with business strategy, guiding priorities from an enterprise-wide perspective. Ensure that Analytics roadmap drives business value, and track this. Works with Finance Senior Leadership and Functional Directors to ensure their area strategies are supported with applied analytics, which are permanently embedded into their business processes; develop Analytics pipeline to support this. Catalyst for best practice sharing across BUs, geographies and functions, in the application of data-driven strategy analytics to improve Finance decision-making Partners with Tech team and other stakeholders to ensure that the right tools and infrastructure is in place for the team to succeed in its roles, determine the balance between in-house capability and external buys/builds.\\nEffectively manage an analytics team with a global remit; Develop framework to build the appropriate capabilities in GSK to support Analytics strategy, both within the team and across organization. Networks across GSK and externally to seek innovation in Analytics, identify opportunities to collaborate with other Analytics functions in GSK and externally. Expert in the design and development of data mining, advanced statistical analysis and machine learning algorithms to deliver business insights (e.g. k-means segmentation, cluster analysis, linear regression, optimization calculus, neural networks)\\nWe would like to speak to you if you have these experience and skills\\nExperience leading complex Analytics projects, embedding data-driven ways of working within an organisation.\\nStatistical modelling and machine learning expertise in various domains.\\nExperience modelling data using leading analytic tools and relational data structures.\\nExpert in Big Data landscape and analytical technology trends.\\nProgramming experience in SQL, R, Python and Java.\\nStrong understanding of Business Working Capital mechanics\\nChange Management experience.\\nFlexible to Work in shift operations to cater to our global operations.\\nRoleDatawarehousing Technician\\nIndustry TypePharmaceutical & Life Sciences\\nFunctional AreaIT Software - System Programming\\nEmployment TypeFull Time, Permanent\\nRole CategorySystem Design/Implementation/ERP/CRM\\nEducation\\nUG :Any Graduate\\nPG :Post Graduation Not Required\\nKey Skills\\nProcurementChange managementAutomationSAP ERPAnalyticalHealthcareBusiness strategyData miningAnalyticsSQL']"
      ]
     },
     "execution_count": 10,
     "metadata": {},
     "output_type": "execute_result"
    }
   ],
   "source": [
    "jobs_description"
   ]
  },
  {
   "cell_type": "code",
   "execution_count": 22,
   "metadata": {},
   "outputs": [],
   "source": [
    "driver.get(urls[1])"
   ]
  },
  {
   "cell_type": "code",
   "execution_count": null,
   "metadata": {},
   "outputs": [],
   "source": []
  },
  {
   "cell_type": "code",
   "execution_count": null,
   "metadata": {},
   "outputs": [],
   "source": []
  },
  {
   "cell_type": "code",
   "execution_count": 18,
   "metadata": {},
   "outputs": [],
   "source": [
    "driver.get(\"https://www.amazon.in/laptops\")"
   ]
  },
  {
   "cell_type": "code",
   "execution_count": 17,
   "metadata": {},
   "outputs": [],
   "source": [
    "#Locating the core i7 filter"
   ]
  },
  {
   "cell_type": "code",
   "execution_count": 21,
   "metadata": {},
   "outputs": [],
   "source": [
    "filter_button=driver.find_element_by_xpath(\"//a[@class='a-link-normal s-navigation-item']/span\")"
   ]
  },
  {
   "cell_type": "code",
   "execution_count": null,
   "metadata": {},
   "outputs": [],
   "source": []
  }
 ],
 "metadata": {
  "kernelspec": {
   "display_name": "Python 3",
   "language": "python",
   "name": "python3"
  },
  "language_info": {
   "codemirror_mode": {
    "name": "ipython",
    "version": 3
   },
   "file_extension": ".py",
   "mimetype": "text/x-python",
   "name": "python",
   "nbconvert_exporter": "python",
   "pygments_lexer": "ipython3",
   "version": "3.8.5"
  }
 },
 "nbformat": 4,
 "nbformat_minor": 4
}
